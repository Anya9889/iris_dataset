{
 "cells": [
  {
   "cell_type": "code",
   "execution_count": 6,
   "metadata": {},
   "outputs": [],
   "source": [
    "import pandas as pd\n",
    "import matplotlib.pyplot as plt\n",
    "import numpy as np\n",
    "from sklearn.utils import shuffle\n",
    "from sklearn.model_selection import train_test_split\n",
    "from sklearn.metrics import accuracy_score\n",
    "from sklearn.svm import SVC"
   ]
  },
  {
   "cell_type": "code",
   "execution_count": 23,
   "metadata": {},
   "outputs": [],
   "source": [
    "df = pd.read_csv('/Users/annapasko/Desktop/Data Science Prep/SVM/iris.csv')\n",
    "target = df['variety']\n",
    "s = set()\n",
    "for val in target:\n",
    "    s.add(val)\n",
    "s = list(s)\n",
    "rows = list(range(100,150))\n",
    "df = df.drop(df.index[rows])"
   ]
  },
  {
   "cell_type": "code",
   "execution_count": 33,
   "metadata": {},
   "outputs": [
    {
     "data": {
      "image/png": "[encoded data removed]",
      "text/plain": [
       "<Figure size 800x600 with 1 Axes>"
      ]
     },
     "metadata": {},
     "output_type": "display_data"
    }
   ],
   "source": [
    "x = df['sepal.length']\n",
    "y = df['petal.length']\n",
    "\n",
    "setosa_x = x[:50]\n",
    "setosa_y = y[:50]\n",
    "\n",
    "versicolor_x = x[50:]\n",
    "versicolor_y = y[50:]\n",
    "\n",
    "plt.figure(figsize=(8,6))\n",
    "plt.scatter(setosa_x,setosa_y,marker='+',color='green')\n",
    "plt.scatter(versicolor_x,versicolor_y,marker='_',color='red')\n",
    "plt.show()\n"
   ]
  },
  {
   "cell_type": "code",
   "execution_count": 25,
   "metadata": {},
   "outputs": [],
   "source": [
    "\n",
    "## Drop rest of the features and extract the target values\n",
    "df = df.drop(['sepal.width','petal.width'],axis=1)\n",
    "Y = []\n",
    "target = df['variety']\n",
    "for val in target:\n",
    "    if(val == 'Setosa'):\n",
    "        Y.append(-1)\n",
    "    else:\n",
    "        Y.append(1)"
   ]
  },
  {
   "cell_type": "code",
   "execution_count": 26,
   "metadata": {},
   "outputs": [],
   "source": [
    "df = df.drop(['variety'],axis=1)\n",
    "X = df.values.tolist()\n",
    "## Shuffle and split the data into training and test set\n",
    "X, Y = shuffle(X,Y)\n",
    "x_train = []\n",
    "y_train = []\n",
    "x_test = []\n",
    "y_test = []\n",
    "\n",
    "x_train, x_test, y_train, y_test = train_test_split(X, Y, train_size=0.9)\n",
    "\n",
    "x_train = np.array(x_train)\n",
    "y_train = np.array(y_train)\n",
    "x_test = np.array(x_test)\n",
    "y_test = np.array(y_test)\n",
    "\n",
    "y_train = y_train.reshape(90,1)\n",
    "y_test = y_test.reshape(10,1)\n"
   ]
  },
  {
   "cell_type": "code",
   "execution_count": 27,
   "metadata": {},
   "outputs": [],
   "source": [
    "train_f1 = x_train[:,0]\n",
    "train_f2 = x_train[:,1]\n",
    "\n",
    "train_f1 = train_f1.reshape(90,1)\n",
    "train_f2 = train_f2.reshape(90,1)\n",
    "\n",
    "w1 = np.zeros((90,1))\n",
    "w2 = np.zeros((90,1))\n",
    "\n",
    "epochs = 1\n",
    "alpha = 0.0001\n",
    "\n",
    "while(epochs < 10000):\n",
    "    y = w1 * train_f1 + w2 * train_f2 \n",
    "    prod = y * y_train\n",
    "    count = 0\n",
    "    for val in prod:\n",
    "        if(val >= 1):\n",
    "            cost = 0\n",
    "            w1 = w1 - alpha * (2 * 1/epochs * w1)\n",
    "            w2 = w2 - alpha * (2 * 1/epochs * w2)\n",
    "\n",
    "        else:\n",
    "            cost = 1 - val \n",
    "            w1 = w1 + alpha * (train_f1[count] * y_train[count] - 2 * 1/epochs * w1)\n",
    "            w2 = w2 + alpha * (train_f2[count] * y_train[count] - 2 * 1/epochs * w2)\n",
    "\n",
    "        count += 1\n",
    "    epochs += 1"
   ]
  },
  {
   "cell_type": "code",
   "execution_count": 28,
   "metadata": {},
   "outputs": [
    {
     "name": "stdout",
     "output_type": "stream",
     "text": [
      "1.0\n"
     ]
    }
   ],
   "source": [
    "## Clip the weights \n",
    "index = list(range(10,90))\n",
    "w1 = np.delete(w1,index)\n",
    "w2 = np.delete(w2,index)\n",
    "\n",
    "w1 = w1.reshape(10,1)\n",
    "w2 = w2.reshape(10,1)\n",
    "## Extract the test data features \n",
    "test_f1 = x_test[:,0]\n",
    "test_f2 = x_test[:,1]\n",
    "\n",
    "test_f1 = test_f1.reshape(10,1)\n",
    "test_f2 = test_f2.reshape(10,1)\n",
    "## Predict\n",
    "y_pred = w1 * test_f1 + w2 * test_f2\n",
    "\n",
    "predictions = []\n",
    "for val in y_pred:\n",
    "    if(val > 1):\n",
    "        predictions.append(1)\n",
    "    else:\n",
    "        predictions.append(-1)\n",
    "\n",
    "print(accuracy_score(y_test,predictions))"
   ]
  },
  {
   "attachments": {},
   "cell_type": "markdown",
   "metadata": {},
   "source": [
    "**Simple version using imported models**"
   ]
  },
  {
   "cell_type": "code",
   "execution_count": 32,
   "metadata": {},
   "outputs": [
    {
     "name": "stdout",
     "output_type": "stream",
     "text": [
      "1.0\n"
     ]
    },
    {
     "name": "stderr",
     "output_type": "stream",
     "text": [
      "/Users/annapasko/Library/Python/3.9/lib/python/site-packages/sklearn/utils/validation.py:1184: DataConversionWarning: A column-vector y was passed when a 1d array was expected. Please change the shape of y to (n_samples, ), for example using ravel().\n",
      "  y = column_or_1d(y, warn=True)\n"
     ]
    }
   ],
   "source": [
    "clf = SVC(kernel='linear')\n",
    "clf.fit(x_train,y_train)\n",
    "y_pred = clf.predict(x_test)\n",
    "\n",
    "print(accuracy_score(y_test,y_pred))"
   ]
  }
 ],
 "metadata": {
  "kernelspec": {
   "display_name": "Python 3",
   "language": "python",
   "name": "python3"
  },
  "language_info": {
   "codemirror_mode": {
    "name": "ipython",
    "version": 3
   },
   "file_extension": ".py",
   "mimetype": "text/x-python",
   "name": "python",
   "nbconvert_exporter": "python",
   "pygments_lexer": "ipython3",
   "version": "3.9.6"
  },
  "orig_nbformat": 4
 },
 "nbformat": 4,
 "nbformat_minor": 2
}
